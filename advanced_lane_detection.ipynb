{
  "nbformat": 4,
  "nbformat_minor": 0,
  "metadata": {
    "colab": {
      "name": "Copy of advanced-lane-detection.ipynb",
      "provenance": [],
      "collapsed_sections": [],
      "include_colab_link": true
    },
    "kernelspec": {
      "name": "python3",
      "display_name": "Python 3"
    }
  },
  "cells": [
    {
      "cell_type": "markdown",
      "metadata": {
        "id": "view-in-github",
        "colab_type": "text"
      },
      "source": [
        "<a href=\"https://colab.research.google.com/github/farhanhubble/google-colab/blob/master/advanced_lane_detection.ipynb\" target=\"_parent\"><img src=\"https://colab.research.google.com/assets/colab-badge.svg\" alt=\"Open In Colab\"/></a>"
      ]
    },
    {
      "cell_type": "code",
      "metadata": {
        "id": "ZP8ARAfbuAfg",
        "colab_type": "code",
        "colab": {}
      },
      "source": [
        "import cv2\n",
        "import matplotlib.pyplot as plt\n",
        "import numpy as np"
      ],
      "execution_count": 0,
      "outputs": []
    },
    {
      "cell_type": "code",
      "metadata": {
        "id": "0ADyP4SF1Tpp",
        "colab_type": "code",
        "colab": {}
      },
      "source": [
        "!ls /content/drive/My\\ Drive/data_driver_view | head -10"
      ],
      "execution_count": 0,
      "outputs": []
    },
    {
      "cell_type": "code",
      "metadata": {
        "id": "SIJq3R8l1dxG",
        "colab_type": "code",
        "colab": {}
      },
      "source": [
        "def plot_img_grid(images, nb_cols):\n",
        "    nb_images = len(images)\n",
        "    nb_rows = int(np.ceil(nb_images/nb_cols))\n",
        "    \n",
        "    for i in range(nb_rows):\n",
        "        plt.figure(figsize=(32, 4))\n",
        "        for j in range(nb_cols):\n",
        "            plt.subplot(1, nb_cols, j+1)\n",
        "            image = images[i*nb_cols + j]\n",
        "            nb_channels = 1 if len(image.shape) == 2 else image.shape[-1]\n",
        "            plt.imshow(image, cmap='gray' if nb_channels == 1 else None)\n",
        "            plt.xticks([])\n",
        "            plt.yticks([])\n",
        "        plt.show()"
      ],
      "execution_count": 0,
      "outputs": []
    },
    {
      "cell_type": "code",
      "metadata": {
        "id": "3e-Aqt2dNxgW",
        "colab_type": "code",
        "colab": {}
      },
      "source": [
        "import os\n",
        "from glob import glob\n",
        "from tqdm import tqdm\n",
        "\n",
        "if os.path.exists('./cache/road_data.npy'):\n",
        "  print('Loading data from cache...')\n",
        "  road_data = np.load('./cache/road_data.npy')\n",
        "  print(f'Data with dimensions {road_data.shape} loaded.')\n",
        "else:\n",
        "  road_data = []\n",
        "  os.makedirs('./cache',exist_ok=True)\n",
        "  filenames = glob('/content/drive/My Drive/data_driver_view/*.png')\n",
        "  print('Loading data from Google Drive')\n",
        "  for name in tqdm(filenames):\n",
        "    img_bgr = cv2.imread(name)\n",
        "    img_rgb = cv2.cvtColor(img_bgr, cv2.COLOR_BGR2RGB)\n",
        "    road_data.append(img_rgb)\n",
        "  np.save('./cache/road_data.npy',road_data)\n",
        "  print(f'{len(road_data)} images loaded')"
      ],
      "execution_count": 0,
      "outputs": []
    },
    {
      "cell_type": "code",
      "metadata": {
        "id": "WhDVxRkT0G_w",
        "colab_type": "code",
        "colab": {}
      },
      "source": [
        "random_indices = np.random.choice(range(len(road_data)),64)\n",
        "plot_img_grid([road_data[i] for i in random_indices ],4)"
      ],
      "execution_count": 0,
      "outputs": []
    },
    {
      "cell_type": "code",
      "metadata": {
        "id": "0P6kAHQjQVnc",
        "colab_type": "code",
        "colab": {}
      },
      "source": [
        "grad_x = cv2.Sobel(road_data[0], cv2.CV_16S, 1, 0,)\n",
        "grad_y = cv2.Sobel(road_data[0], cv2.CV_16S, 0, 1)\n",
        "\n",
        "grad_x_abs = np.abs(grad_x)\n",
        "grad_y_abs = np.abs(grad_y)\n",
        "\n",
        "# Scaled gradients \n",
        "max_channelwise_x = np.max(grad_x_abs, axis=(0,1))\n",
        "min_channelwise_x = np.min(grad_x_abs, axis=(0,1))\n",
        "\n",
        "max_channelwise_y = np.max(grad_y_abs, axis=(0,1))\n",
        "min_channelwise_y = np.min(grad_y_abs, axis=(0,1))\n",
        "\n",
        "grad_x_scaled = ((grad_x_abs - min_channelwise_x)/(max_channelwise_x - min_channelwise_x))\n",
        "grad_y_scaled = ((grad_y_abs - min_channelwise_y)/(max_channelwise_y - min_channelwise_y))"
      ],
      "execution_count": 0,
      "outputs": []
    },
    {
      "cell_type": "code",
      "metadata": {
        "id": "Dvo1EN8tzNvb",
        "colab_type": "code",
        "colab": {}
      },
      "source": [
        "plt.matshow(grad_x_scaled); plt.show();\n",
        "plt.matshow(grad_y_scaled); plt.show();"
      ],
      "execution_count": 0,
      "outputs": []
    },
    {
      "cell_type": "code",
      "metadata": {
        "id": "ValplVjFdqz6",
        "colab_type": "code",
        "colab": {}
      },
      "source": [
        "# Automatic thresholding\n",
        "bin_grad_x = cv2.threshold((255*grad_x_scaled[:,:,0]).astype(np.uint8), 0, 255, cv2.THRESH_OTSU+cv2.THRESH_BINARY)\n",
        "bin_grad_y = cv2.threshold((255*grad_y_scaled[:,:,0]).astype(np.uint8), 0, 255, cv2.THRESH_OTSU+cv2.THRESH_BINARY)"
      ],
      "execution_count": 0,
      "outputs": []
    },
    {
      "cell_type": "code",
      "metadata": {
        "id": "0eF_CW-dsCMl",
        "colab_type": "code",
        "colab": {}
      },
      "source": [
        "plt.matshow(bin_grad_x[1], cmap='gray')"
      ],
      "execution_count": 0,
      "outputs": []
    },
    {
      "cell_type": "code",
      "metadata": {
        "id": "oCitXONOzarn",
        "colab_type": "code",
        "colab": {}
      },
      "source": [
        "plt.matshow(bin_grad_y[1], cmap='gray')"
      ],
      "execution_count": 0,
      "outputs": []
    },
    {
      "cell_type": "code",
      "metadata": {
        "id": "PJdGL-9fETF5",
        "colab_type": "code",
        "colab": {}
      },
      "source": [
        "grad_combined = np.sqrt( np.square(grad_x_scaled) + np.square(grad_y_scaled)) \n",
        "\n",
        "# Find the connected compnents\n",
        "\n",
        "# Scale the gradients\n",
        "max_combined = np.max(grad_combined, axis=(0,1))\n",
        "min_combined = np.min(grad_combined, axis=(0,1))\n",
        "\n",
        "\n",
        "scaled_grad_combined = ((grad_combined - min_combined)/(max_combined - min_combined))\n",
        "\n",
        "# Convert to binary value\n",
        "bin_grad_combined = cv2.threshold((255*scaled_grad_combined[:,:,0]).astype(np.uint8), \n",
        "                                  0, 255, cv2.THRESH_OTSU+cv2.THRESH_BINARY)\n",
        "\n",
        "#find the connected components\n",
        "retval, labels, stats, centroids = cv2.connectedComponentsWithStats(bin_grad_combined[1])\n",
        "\n",
        "# Find the top 10 components\n",
        "top_components_index = np.argsort(stats[:, -1],)[-2:-20:-1]\n",
        "\n",
        "\n",
        "# Plot the connected components\n",
        "for component_id in top_components_index:\n",
        "  condition_array = np.rollaxis(np.stack((labels == component_id, labels == component_id, labels == component_id)), 0, 3)\n",
        "  component = np.where(condition_array, road_data[0], np.zeros_like(road_data[0]))\n",
        "  contour, hierarchy = cv2.findContours(component[:,:,0], cv2.RETR_TREE, cv2.CHAIN_APPROX_SIMPLE)\n",
        "\n",
        "  cv2.drawContours(component, contour, -1, (255,0,0),2)\n",
        "  plt.matshow(component)\n",
        "  #plt.title(f'size:{stats[component_id,-1]}')\n",
        "plt.show()"
      ],
      "execution_count": 0,
      "outputs": []
    },
    {
      "cell_type": "code",
      "metadata": {
        "id": "6Cf-WLIyG0kr",
        "colab_type": "code",
        "colab": {}
      },
      "source": [
        "contour, hierarchy = cv2.findContours(road_data[0][:,:,0], cv2.RETR_TREE, cv2.CHAIN_APPROX_SIMPLE)\n",
        "img = np.copy(road_data[0])\n",
        "cv2.drawContours(img, contour, -1, (255,0,0),2)\n",
        "plt.imshow(img)\n"
      ],
      "execution_count": 0,
      "outputs": []
    },
    {
      "cell_type": "code",
      "metadata": {
        "id": "TBdKNRxwCRSX",
        "colab_type": "code",
        "colab": {}
      },
      "source": [
        "list(range(-1,-12,-1))"
      ],
      "execution_count": 0,
      "outputs": []
    },
    {
      "cell_type": "code",
      "metadata": {
        "id": "RRw-qQZL9bpM",
        "colab_type": "code",
        "colab": {}
      },
      "source": [
        "tmp = np.sqrt(np.square(grad_x_scaled))\n",
        "tmp = (tmp - tmp.min())/(tmp.max() - tmp.min())"
      ],
      "execution_count": 0,
      "outputs": []
    },
    {
      "cell_type": "code",
      "metadata": {
        "id": "3NXx-dl581mc",
        "colab_type": "code",
        "colab": {}
      },
      "source": [
        ""
      ],
      "execution_count": 0,
      "outputs": []
    },
    {
      "cell_type": "code",
      "metadata": {
        "id": "eCUV8LxX71lY",
        "colab_type": "code",
        "colab": {}
      },
      "source": [
        "plt.imshow(bin_grad_combined[1], cmap='gray')"
      ],
      "execution_count": 0,
      "outputs": []
    },
    {
      "cell_type": "code",
      "metadata": {
        "id": "7oX5JW285Yqn",
        "colab_type": "code",
        "colab": {}
      },
      "source": [
        "plt.imshow(bin_grad_combined, cmap='gray');"
      ],
      "execution_count": 0,
      "outputs": []
    },
    {
      "cell_type": "code",
      "metadata": {
        "id": "o_EvUpbwzmnS",
        "colab_type": "code",
        "colab": {}
      },
      "source": [
        "# Find connected components\n",
        "retval, labels, stats, centroids = cv2.connectedComponentsWithStats(bin_grad_x[1])"
      ],
      "execution_count": 0,
      "outputs": []
    },
    {
      "cell_type": "code",
      "metadata": {
        "id": "0fZ1Jc2jz_vT",
        "colab_type": "code",
        "colab": {}
      },
      "source": [
        "# Find the top 10 components\n",
        "top_components_index = np.argsort(stats[:, -1])[-30:-1]\n",
        "top_components = stats[top_components_index, -1]"
      ],
      "execution_count": 0,
      "outputs": []
    },
    {
      "cell_type": "code",
      "metadata": {
        "id": "E8jCDVgw13BE",
        "colab_type": "code",
        "colab": {}
      },
      "source": [
        "for component_id in top_components_index:\n",
        "  condition_array = np.rollaxis(np.stack((labels == component_id, labels == component_id, labels == component_id)), 0, 3)\n",
        "  component = np.where(condition_array, road_data[0], np.zeros_like(road_data[0]))\n",
        "  plt.imshow(component)\n",
        "  plt.show()"
      ],
      "execution_count": 0,
      "outputs": []
    },
    {
      "cell_type": "code",
      "metadata": {
        "id": "8ZZ-joPA4HSd",
        "colab_type": "code",
        "colab": {}
      },
      "source": [
        "test = (grad_x**2) + (grad_y**2)\n",
        "\n",
        "plt.imshow(np.sqrt(test))"
      ],
      "execution_count": 0,
      "outputs": []
    },
    {
      "cell_type": "code",
      "metadata": {
        "id": "EX9BvmRQYuPh",
        "colab_type": "code",
        "colab": {}
      },
      "source": [
        "from google.colab import drive\n",
        "drive.mount('/content/drive')"
      ],
      "execution_count": 0,
      "outputs": []
    },
    {
      "cell_type": "code",
      "metadata": {
        "id": "NaOSCTocqiTO",
        "colab_type": "code",
        "colab": {}
      },
      "source": [
        ""
      ],
      "execution_count": 0,
      "outputs": []
    }
  ]
}