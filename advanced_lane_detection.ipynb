{
  "nbformat": 4,
  "nbformat_minor": 0,
  "metadata": {
    "colab": {
      "name": "advanced-lane-detection.ipynb",
      "provenance": [],
      "collapsed_sections": [],
      "include_colab_link": true
    },
    "kernelspec": {
      "name": "python3",
      "display_name": "Python 3"
    }
  },
  "cells": [
    {
      "cell_type": "markdown",
      "metadata": {
        "id": "view-in-github",
        "colab_type": "text"
      },
      "source": [
        "<a href=\"https://colab.research.google.com/github/farhanhubble/google-colab/blob/master/advanced_lane_detection.ipynb\" target=\"_parent\"><img src=\"https://colab.research.google.com/assets/colab-badge.svg\" alt=\"Open In Colab\"/></a>"
      ]
    },
    {
      "cell_type": "code",
      "metadata": {
        "id": "ZP8ARAfbuAfg",
        "colab_type": "code",
        "colab": {}
      },
      "source": [
        "import cv2\n",
        "import matplotlib.pyplot as plt\n",
        "import numpy as np"
      ],
      "execution_count": 0,
      "outputs": []
    },
    {
      "cell_type": "code",
      "metadata": {
        "id": "0ADyP4SF1Tpp",
        "colab_type": "code",
        "outputId": "a587b850-8d31-42be-9003-f634345a77df",
        "colab": {
          "base_uri": "https://localhost:8080/",
          "height": 185
        }
      },
      "source": [
        "!ls /content/drive/My\\ Drive/data_driver_view | head -10"
      ],
      "execution_count": 11,
      "outputs": [
        {
          "output_type": "stream",
          "text": [
            "00002207.png\n",
            "00002208.png\n",
            "00002209.png\n",
            "00002210.png\n",
            "00002211.png\n",
            "00002212.png\n",
            "00002213.png\n",
            "00002214.png\n",
            "00002215.png\n",
            "00002216.png\n"
          ],
          "name": "stdout"
        }
      ]
    },
    {
      "cell_type": "code",
      "metadata": {
        "id": "SIJq3R8l1dxG",
        "colab_type": "code",
        "colab": {}
      },
      "source": [
        "def plot_img_grid(images, nb_cols):\n",
        "    nb_images = len(images)\n",
        "    nb_rows = int(np.ceil(nb_images/nb_cols))\n",
        "    \n",
        "    for i in range(nb_rows):\n",
        "        plt.figure(figsize=(32, 4))\n",
        "        for j in range(nb_cols):\n",
        "            plt.subplot(1, nb_cols, j+1)\n",
        "            image = images[i*nb_cols + j]\n",
        "            nb_channels = 1 if len(image.shape) == 2 else image.shape[-1]\n",
        "            plt.imshow(image, cmap='gray' if nb_channels == 1 else None)\n",
        "            plt.xticks([])\n",
        "            plt.yticks([])\n",
        "        plt.show()"
      ],
      "execution_count": 0,
      "outputs": []
    },
    {
      "cell_type": "code",
      "metadata": {
        "id": "fEutjJWRMRxl",
        "colab_type": "code",
        "colab": {}
      },
      "source": [
        "road_data = []"
      ],
      "execution_count": 0,
      "outputs": []
    },
    {
      "cell_type": "code",
      "metadata": {
        "id": "4Gy4yjJ5NCIi",
        "colab_type": "code",
        "colab": {
          "base_uri": "https://localhost:8080/",
          "height": 185
        },
        "outputId": "c02475cd-df3c-4353-ceae-232c30a927fc"
      },
      "source": [
        "from glob import glob\n",
        "filenames = glob('/content/drive/My Drive/data_driver_view/*.png')\n",
        "filenames[:10]"
      ],
      "execution_count": 15,
      "outputs": [
        {
          "output_type": "execute_result",
          "data": {
            "text/plain": [
              "['/content/drive/My Drive/data_driver_view/00002212.png',\n",
              " '/content/drive/My Drive/data_driver_view/00002218.png',\n",
              " '/content/drive/My Drive/data_driver_view/00002208.png',\n",
              " '/content/drive/My Drive/data_driver_view/00002207.png',\n",
              " '/content/drive/My Drive/data_driver_view/00002214.png',\n",
              " '/content/drive/My Drive/data_driver_view/00002209.png',\n",
              " '/content/drive/My Drive/data_driver_view/00002213.png',\n",
              " '/content/drive/My Drive/data_driver_view/00002216.png',\n",
              " '/content/drive/My Drive/data_driver_view/00002215.png',\n",
              " '/content/drive/My Drive/data_driver_view/00002210.png']"
            ]
          },
          "metadata": {
            "tags": []
          },
          "execution_count": 15
        }
      ]
    },
    {
      "cell_type": "code",
      "metadata": {
        "id": "kGkAed__NMTR",
        "colab_type": "code",
        "colab": {}
      },
      "source": [
        "for name in filenames:\n",
        "  img_bgr = cv2.imread(name)\n",
        "  img_rgb = cv2.cvtColor(img_bgr, cv2.COLOR_BGR2RGB)\n",
        "  road_data.append(img_rgb)"
      ],
      "execution_count": 0,
      "outputs": []
    },
    {
      "cell_type": "code",
      "metadata": {
        "id": "3e-Aqt2dNxgW",
        "colab_type": "code",
        "colab": {}
      },
      "source": [
        ""
      ],
      "execution_count": 0,
      "outputs": []
    }
  ]
}