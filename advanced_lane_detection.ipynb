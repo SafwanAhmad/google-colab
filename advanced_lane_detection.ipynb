{
  "nbformat": 4,
  "nbformat_minor": 0,
  "metadata": {
    "colab": {
      "name": "advanced-lane-detection.ipynb",
      "provenance": [],
      "collapsed_sections": [],
      "include_colab_link": true
    },
    "kernelspec": {
      "name": "python3",
      "display_name": "Python 3"
    }
  },
  "cells": [
    {
      "cell_type": "markdown",
      "metadata": {
        "id": "view-in-github",
        "colab_type": "text"
      },
      "source": [
        "<a href=\"https://colab.research.google.com/github/farhanhubble/google-colab/blob/master/advanced_lane_detection.ipynb\" target=\"_parent\"><img src=\"https://colab.research.google.com/assets/colab-badge.svg\" alt=\"Open In Colab\"/></a>"
      ]
    },
    {
      "cell_type": "code",
      "metadata": {
        "id": "ZP8ARAfbuAfg",
        "colab_type": "code",
        "colab": {}
      },
      "source": [
        "import cv2\n",
        "import matplotlib.pyplot as plt\n",
        "import numpy as np"
      ],
      "execution_count": 0,
      "outputs": []
    },
    {
      "cell_type": "code",
      "metadata": {
        "id": "0ADyP4SF1Tpp",
        "colab_type": "code",
        "outputId": "a587b850-8d31-42be-9003-f634345a77df",
        "colab": {
          "base_uri": "https://localhost:8080/",
          "height": 185
        }
      },
      "source": [
        "!ls /content/drive/My\\ Drive/data_driver_view | head -10"
      ],
      "execution_count": 11,
      "outputs": [
        {
          "output_type": "stream",
          "text": [
            "00002207.png\n",
            "00002208.png\n",
            "00002209.png\n",
            "00002210.png\n",
            "00002211.png\n",
            "00002212.png\n",
            "00002213.png\n",
            "00002214.png\n",
            "00002215.png\n",
            "00002216.png\n"
          ],
          "name": "stdout"
        }
      ]
    },
    {
      "cell_type": "code",
      "metadata": {
        "id": "SIJq3R8l1dxG",
        "colab_type": "code",
        "colab": {}
      },
      "source": [
        "def plot_img_grid(images, nb_cols):\n",
        "    nb_images = len(images)\n",
        "    nb_rows = int(np.ceil(nb_images/nb_cols))\n",
        "    \n",
        "    for i in range(nb_rows):\n",
        "        plt.figure(figsize=(32, 4))\n",
        "        for j in range(nb_cols):\n",
        "            plt.subplot(1, nb_cols, j+1)\n",
        "            image = images[i*nb_cols + j]\n",
        "            nb_channels = 1 if len(image.shape) == 2 else image.shape[-1]\n",
        "            plt.imshow(image, cmap='gray' if nb_channels == 1 else None)\n",
        "            plt.xticks([])\n",
        "            plt.yticks([])\n",
        "        plt.show()"
      ],
      "execution_count": 0,
      "outputs": []
    },
    {
      "cell_type": "code",
      "metadata": {
        "id": "3e-Aqt2dNxgW",
        "colab_type": "code",
        "colab": {
          "base_uri": "https://localhost:8080/",
          "height": 50
        },
        "outputId": "a8c7f7c6-1319-474a-dbb4-a107633281c7"
      },
      "source": [
        "import os\n",
        "from glob import glob\n",
        "from tqdm import tqdm\n",
        "\n",
        "if os.path.exists('./cache/road_data.npy'):\n",
        "  print('Loading data from cache...')\n",
        "  road_data = np.load('./cache/road_data.npy')\n",
        "  print(f'Data with dimensions {road_data.shape} loaded.')\n",
        "else:\n",
        "  os.makedirs('./cache')\n",
        "  filenames = glob('/content/drive/My Drive/data_driver_view/*.png')\n",
        "  print('Loading data from Google Drive')\n",
        "  for name in tqdm(filenames):\n",
        "    img_bgr = cv2.imread(name)\n",
        "    img_rgb = cv2.cvtColor(img_bgr, cv2.COLOR_BGR2RGB)\n",
        "    road_data.append(img_rgb)\n",
        "  np.save('./cache/road_data.npy',road_data)\n",
        "  print(f'{len(road_data)} images loaded')"
      ],
      "execution_count": 20,
      "outputs": [
        {
          "output_type": "stream",
          "text": [
            "Loading data from cache...\n",
            "Data with dimensions (1065, 720, 1280, 3) loaded.\n"
          ],
          "name": "stdout"
        }
      ]
    },
    {
      "cell_type": "code",
      "metadata": {
        "id": "0P6kAHQjQVnc",
        "colab_type": "code",
        "colab": {}
      },
      "source": [
        ""
      ],
      "execution_count": 0,
      "outputs": []
    }
  ]
}